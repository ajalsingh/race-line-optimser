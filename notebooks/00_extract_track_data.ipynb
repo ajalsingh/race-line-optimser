{
 "cells": [
  {
   "cell_type": "code",
   "execution_count": 1,
   "metadata": {},
   "outputs": [
    {
     "name": "stderr",
     "output_type": "stream",
     "text": [
      "/Users/ajalsingh/git/race-line-optimser/.venv/lib/python3.9/site-packages/urllib3/__init__.py:35: NotOpenSSLWarning: urllib3 v2 only supports OpenSSL 1.1.1+, currently the 'ssl' module is compiled with 'LibreSSL 2.8.3'. See: https://github.com/urllib3/urllib3/issues/3020\n",
      "  warnings.warn(\n"
     ]
    }
   ],
   "source": [
    "import requests\n",
    "import geojson\n",
    "import matplotlib.pyplot as plt\n",
    "import geopandas as gpd\n",
    "from shapely.geometry import shape\n",
    "from pathlib import Path"
   ]
  },
  {
   "cell_type": "markdown",
   "metadata": {},
   "source": [
    "### Scrape track data"
   ]
  },
  {
   "cell_type": "code",
   "execution_count": 2,
   "metadata": {},
   "outputs": [],
   "source": [
    "# Directory to save track data\n",
    "OUTPUT_DIR = Path(\"../track_data\")\n",
    "OUTPUT_DIR.mkdir(exist_ok=True)"
   ]
  },
  {
   "cell_type": "code",
   "execution_count": 3,
   "metadata": {},
   "outputs": [],
   "source": [
    "# Define Overpass API endpoint\n",
    "OVERPASS_URL = \"https://overpass-api.de/api/interpreter\"\n",
    "\n",
    "# List of F1 tracks to query\n",
    "TRACKS = [\n",
    "    {\"name\": \"Circuit de Monaco\", \"type\": \"relation\"},\n",
    "    {\"name\": \"Silverstone Circuit\", \"type\": \"relation\"},\n",
    "    {\"name\": \"Spa-Francorchamps\", \"type\": \"relation\"},\n",
    "    {\"name\": \"Autodromo Nazionale di Monza\", \"type\": \"relation\"},\n",
    "    {\"name\": \"Circuit of the Americas\", \"type\": \"relation\"},\n",
    "]"
   ]
  },
  {
   "cell_type": "code",
   "execution_count": 10,
   "metadata": {},
   "outputs": [
    {
     "name": "stdout",
     "output_type": "stream",
     "text": [
      "Fetching data for Circuit de Monaco...\n"
     ]
    },
    {
     "name": "stdout",
     "output_type": "stream",
     "text": [
      "Saved GeoJSON for Circuit de Monaco to ../track_data/Circuit_de_Monaco.geojson\n",
      "Fetching data for Silverstone Circuit...\n",
      "Saved GeoJSON for Silverstone Circuit to ../track_data/Silverstone_Circuit.geojson\n",
      "Fetching data for Spa-Francorchamps...\n",
      "Saved GeoJSON for Spa-Francorchamps to ../track_data/Spa-Francorchamps.geojson\n",
      "Fetching data for Autodromo Nazionale di Monza...\n",
      "Saved GeoJSON for Autodromo Nazionale di Monza to ../track_data/Autodromo_Nazionale_di_Monza.geojson\n",
      "Fetching data for Circuit of the Americas...\n",
      "Saved GeoJSON for Circuit of the Americas to ../track_data/Circuit_of_the_Americas.geojson\n"
     ]
    }
   ],
   "source": [
    "def query_overpass(track_name, track_type):\n",
    "    \"\"\"\n",
    "    Query the Overpass API for a specific track.\n",
    "    \"\"\"\n",
    "    query = f\"\"\"\n",
    "    [out:json];\n",
    "    {track_type}[\"name\"=\"{track_name}\"];\n",
    "    out body;\n",
    "    >;\n",
    "    out skel qt;\n",
    "    \"\"\"\n",
    "    response = requests.get(OVERPASS_URL, params={\"data\": query})\n",
    "    response.raise_for_status()\n",
    "    return response.json()\n",
    "\n",
    "\n",
    "def save_geojson(track_name, data):\n",
    "    \"\"\"\n",
    "    Save the track data to a GeoJSON file.\n",
    "    \"\"\"\n",
    "    filename = OUTPUT_DIR / f\"{track_name.replace(' ', '_')}.geojson\"\n",
    "    with open(filename, \"w\") as file:\n",
    "        geojson.dump(data, file, indent=2)\n",
    "    print(f\"Saved GeoJSON for {track_name} to {filename}\")\n",
    "\n",
    "\n",
    "# Fetch data for all F1 tracks and save them as GeoJSON.\n",
    "\n",
    "for track in TRACKS:\n",
    "    print(f\"Fetching data for {track['name']}...\")\n",
    "    try:\n",
    "        data = query_overpass(track[\"name\"], track[\"type\"])\n",
    "        save_geojson(track[\"name\"], data)\n",
    "    except Exception as e:\n",
    "        print(f\"Failed to fetch data for {track['name']}: {e}\")"
   ]
  },
  {
   "cell_type": "markdown",
   "metadata": {},
   "source": [
    "### Visualise tracks"
   ]
  },
  {
   "cell_type": "code",
   "execution_count": 4,
   "metadata": {},
   "outputs": [],
   "source": [
    "# Directory containing the GeoJSON files\n",
    "TRACK_DIR = Path(\"../track_data\")\n",
    "\n",
    "\n",
    "def load_geojson(file_path):\n",
    "    \"\"\"\n",
    "    Load a GeoJSON file and extract its geometry.\n",
    "    \"\"\"\n",
    "    with open(file_path, \"r\") as file:\n",
    "        data = geojson.load(file)\n",
    "    geometries = []\n",
    "    for feature in data.get(\"features\", []):\n",
    "        geom = shape(feature[\"geometry\"])\n",
    "        geometries.append(geom)\n",
    "    return geometries"
   ]
  },
  {
   "cell_type": "code",
   "execution_count": 7,
   "metadata": {},
   "outputs": [
    {
     "name": "stdout",
     "output_type": "stream",
     "text": [
      "Visualizing Autodromo_Nazionale_di_Monza...\n",
      "Visualizing Circuit_of_the_Americas...\n",
      "Visualizing Spa-Francorchamps...\n",
      "Visualizing Circuit_de_Monaco...\n",
      "Visualizing Silverstone_Circuit...\n"
     ]
    },
    {
     "data": {
      "text/plain": [
       "<Figure size 640x480 with 0 Axes>"
      ]
     },
     "metadata": {},
     "output_type": "display_data"
    }
   ],
   "source": [
    "files = list(TRACK_DIR.glob(\"*.geojson\"))\n",
    "num_files = len(files)\n",
    "cols = 2\n",
    "rows = (num_files + 1) // cols  # Calculate rows needed for the grid\n",
    "\n",
    "for idx, file in enumerate(files):\n",
    "    print(f\"Visualizing {file.stem}...\")\n",
    "    geometries = load_geojson(file)\n",
    "    for geom in geometries:\n",
    "        if geom.geom_type == \"LineString\":\n",
    "            x, y = geom.xy\n",
    "            plt.plot(x, y, label=file.stem)\n",
    "        elif geom.geom_type == \"MultiLineString\":\n",
    "            for line in geom.geoms:\n",
    "                x, y = line.xy\n",
    "                plt.plot(x, y, label=file.stem)\n",
    "\n",
    "    # plt.set_title(file.stem)\n",
    "    # plt.set_xlabel(\"Longitude\")\n",
    "    # plt.set_ylabel(\"Latitude\")\n",
    "    # plt.legend(loc=\"upper right\", fontsize=\"small\")\n",
    "    # plt.grid(True)\n",
    "\n",
    "plt.tight_layout()\n",
    "plt.show()"
   ]
  }
 ],
 "metadata": {
  "kernelspec": {
   "display_name": ".venv",
   "language": "python",
   "name": "python3"
  },
  "language_info": {
   "codemirror_mode": {
    "name": "ipython",
    "version": 3
   },
   "file_extension": ".py",
   "mimetype": "text/x-python",
   "name": "python",
   "nbconvert_exporter": "python",
   "pygments_lexer": "ipython3",
   "version": "3.9.6"
  }
 },
 "nbformat": 4,
 "nbformat_minor": 2
}
